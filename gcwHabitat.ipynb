{
 "cells": [
  {
   "cell_type": "markdown",
   "id": "f14d4468-b567-414f-9057-00e7b895857e",
   "metadata": {},
   "source": [
    "Golden-cheeked Warbler Habitat Analysis by Ava Erickson"
   ]
  },
  {
   "cell_type": "code",
   "execution_count": 1,
   "id": "aa0e8ff0-c150-4c03-9291-52325779fe7e",
   "metadata": {},
   "outputs": [
    {
     "data": {
      "text/plain": [
       "'CheckedOut'"
      ]
     },
     "execution_count": 1,
     "metadata": {},
     "output_type": "execute_result"
    }
   ],
   "source": [
    "import arcpy\n",
    "from arcpy import env\n",
    "import os\n",
    "from arcpy import sa\n",
    "from arcpy.sa import *\n",
    "env.overwriteOutput = True\n",
    "arcpy.CheckOutExtension(\"Spatial\")"
   ]
  },
  {
   "cell_type": "code",
   "execution_count": 2,
   "id": "c972d9a7-15b6-4939-84c4-408f23b51b49",
   "metadata": {},
   "outputs": [],
   "source": [
    "path = r\"D:\\Geoprocessing\\gcwFinal\""
   ]
  },
  {
   "cell_type": "code",
   "execution_count": 3,
   "id": "507f875a-c8e1-456b-bc7f-33ce1d404a06",
   "metadata": {},
   "outputs": [],
   "source": [
    "env.workspace = path"
   ]
  },
  {
   "cell_type": "code",
   "execution_count": 4,
   "id": "236ad1d3-e8c3-44cb-a6f3-c16bc334204d",
   "metadata": {},
   "outputs": [
    {
     "data": {
      "text/plain": [
       "['County.shp']"
      ]
     },
     "execution_count": 4,
     "metadata": {},
     "output_type": "execute_result"
    }
   ],
   "source": [
    "shpList = [f for f in os.listdir(r'D:\\Geoprocessing\\gcwFinal\\Texas_County_Boundaries') if f.endswith(\"shp\")]\n",
    "shpList"
   ]
  },
  {
   "cell_type": "code",
   "execution_count": 5,
   "id": "f9d82553-730a-49e7-95d3-817664344d5b",
   "metadata": {},
   "outputs": [
    {
     "data": {
      "text/plain": [
       "'D:\\\\Geoprocessing\\\\gcwFinal\\\\Texas_County_Boundaries\\\\County.shp'"
      ]
     },
     "execution_count": 5,
     "metadata": {},
     "output_type": "execute_result"
    }
   ],
   "source": [
    "counties = r\"D:\\Geoprocessing\\gcwFinal\\Texas_County_Boundaries\" + '\\\\' + shpList[0]\n",
    "counties"
   ]
  },
  {
   "cell_type": "code",
   "execution_count": 6,
   "id": "266a4803-26fe-4338-a66b-f4acc0e3811f",
   "metadata": {},
   "outputs": [],
   "source": [
    "#create the entire warbler region using the where clause and to pull the names of each county\n",
    "\n",
    "#county_outfile is what we are saving the new layer as\n",
    "#counties is where we are pulling the county data from\n",
    "#where_clause tells us the type of data we are pulling, which in this case is CNTY_NM\n",
    "#using IN instead of \"or\" so that we dont have to write CNTY_NM in front of each value"
   ]
  },
  {
   "cell_type": "code",
   "execution_count": 7,
   "id": "09892ef7-c9aa-4ea6-845e-e25ace2804e7",
   "metadata": {},
   "outputs": [
    {
     "data": {
      "text/html": [
       "<div class='gpresult'><h2>Messages</h2><div id='messages' data-messages='[\"Start Time: Friday, December 6, 2024 11:33:31 PM\",\"Succeeded at Friday, December 6, 2024 11:33:33 PM (Elapsed Time: 2.04 seconds)\"]' data-show='true'><div id = 'default' /></div></div>"
      ],
      "text/plain": [
       "<Result 'D:\\\\Geoprocessing\\\\gcwFinal\\\\warblerCounties.shp'>"
      ]
     },
     "execution_count": 7,
     "metadata": {},
     "output_type": "execute_result"
    }
   ],
   "source": [
    "warblerCounties = r\"D:\\Geoprocessing\\gcwFinal\\warblerCounties.shp\"\n",
    "where_clause = ('\"CNTY_NM\" IN (\\'Stephens\\', \\'Palo Pinto\\', \\'Eastland\\', \\'Erath\\', \\'Hood\\', \\'Johnson\\', \\'Bosque\\', '\n",
    "                '\\'Somervell\\', \\'Hill\\', \\'Hamilton\\', \\'Coryell\\', \\'McLennan\\', \\'Lampasas\\', \\'Bell\\', \\'San Saba\\', '\n",
    "                '\\'Llano\\', \\'Mason\\', \\'Gillespie\\', \\'Blanco\\', \\'Burnet\\', \\'Williamson\\', \\'Travis\\', \\'Hays\\', '\n",
    "                '\\'Kendall\\', \\'Comal\\', \\'Bexar\\', \\'Menard\\', \\'Kimble\\', \\'Kerr\\', \\'Edwards\\', \\'Real\\', \\'Bandera\\', '\n",
    "                '\\'Medina\\', \\'Uvalde\\', \\'Kinney\\')')\n",
    "arcpy.analysis.Select(counties, warblerCounties, where_clause)"
   ]
  },
  {
   "cell_type": "code",
   "execution_count": 8,
   "id": "946b5515-7dec-41d3-84b8-fc4931222595",
   "metadata": {},
   "outputs": [
    {
     "data": {
      "text/html": [
       "<div class='gpresult'><h2>Messages</h2><div id='messages' data-messages='[\"Start Time: Friday, December 6, 2024 11:33:34 PM\",\"Succeeded at Friday, December 6, 2024 11:33:43 PM (Elapsed Time: 9.81 seconds)\"]' data-show='true'><div id = 'default' /></div></div>"
      ],
      "text/plain": [
       "<Result 'D:\\\\Geoprocessing\\\\gcwFinal\\\\warblerCounties_utm14n.shp'>"
      ]
     },
     "execution_count": 8,
     "metadata": {},
     "output_type": "execute_result"
    }
   ],
   "source": [
    "#project warbler counties to UTM14N\n",
    "warblerCounties = r\"D:\\Geoprocessing\\gcwFinal\\warblerCounties.shp\"  \n",
    "warblerCounties_utm14n = r\"D:\\Geoprocessing\\gcwFinal\\warblerCounties_utm14n.shp\" \n",
    "\n",
    "\n",
    "out_coor_system = arcpy.SpatialReference(32614)\n",
    "\n",
    "arcpy.management.Project(in_dataset = warblerCounties, out_dataset = warblerCounties_utm14n, out_coor_system = out_coor_system)"
   ]
  },
  {
   "cell_type": "code",
   "execution_count": null,
   "id": "0fb08b6d-d7f0-4848-b13b-93025f1f701d",
   "metadata": {},
   "outputs": [],
   "source": [
    "#create each individual region using where clause and county names"
   ]
  },
  {
   "cell_type": "code",
   "execution_count": 9,
   "id": "5b7bfabf-5930-41f5-a6d2-5f6cc9cad26a",
   "metadata": {},
   "outputs": [
    {
     "data": {
      "text/html": [
       "<div class='gpresult'><h2>Messages</h2><div id='messages' data-messages='[\"Start Time: Friday, December 6, 2024 11:33:44 PM\",\"Succeeded at Friday, December 6, 2024 11:33:44 PM (Elapsed Time: 0.93 seconds)\"]' data-show='true'><div id = 'default' /></div></div>"
      ],
      "text/plain": [
       "<Result 'D:\\\\Geoprocessing\\\\gcwFinal\\\\region1.shp'>"
      ]
     },
     "execution_count": 9,
     "metadata": {},
     "output_type": "execute_result"
    }
   ],
   "source": [
    "region1 = r\"D:\\Geoprocessing\\gcwFinal\\region1.shp\"\n",
    "where_clause = '\"CNTY_NM\" = \\'Stephens\\' or \"CNTY_NM\" = \\'Palo Pinto\\' or \"CNTY_NM\" = \\'Eastland\\''\n",
    "arcpy.analysis.Select(warblerCounties_utm14n, region1, where_clause)"
   ]
  },
  {
   "cell_type": "code",
   "execution_count": 10,
   "id": "67a78d0a-6c1b-4293-bdc7-ab358922d5dc",
   "metadata": {},
   "outputs": [
    {
     "data": {
      "text/html": [
       "<div class='gpresult'><h2>Messages</h2><div id='messages' data-messages='[\"Start Time: Friday, December 6, 2024 11:33:45 PM\",\"Succeeded at Friday, December 6, 2024 11:33:45 PM (Elapsed Time: 0.88 seconds)\"]' data-show='true'><div id = 'default' /></div></div>"
      ],
      "text/plain": [
       "<Result 'D:\\\\Geoprocessing\\\\gcwFinal\\\\region2.shp'>"
      ]
     },
     "execution_count": 10,
     "metadata": {},
     "output_type": "execute_result"
    }
   ],
   "source": [
    "region2 = r\"D:\\Geoprocessing\\gcwFinal\\region2.shp\"\n",
    "where_clause = '\"CNTY_NM\" = \\'Erath\\' or \"CNTY_NM\" = \\'Hood\\' or \"CNTY_NM\" = \\'Johnson\\' or \"CNTY_NM\" = \\'Somervell\\' or \"CNTY_NM\" = \\'Bosque\\' or \"CNTY_NM\" = \\'Hill\\''\n",
    "arcpy.analysis.Select(warblerCounties_utm14n, region2, where_clause)"
   ]
  },
  {
   "cell_type": "code",
   "execution_count": 11,
   "id": "cea010c0-4d2a-46dd-a43d-3f63bc370337",
   "metadata": {},
   "outputs": [
    {
     "data": {
      "text/html": [
       "<div class='gpresult'><h2>Messages</h2><div id='messages' data-messages='[\"Start Time: Friday, December 6, 2024 11:33:46 PM\",\"Succeeded at Friday, December 6, 2024 11:33:51 PM (Elapsed Time: 5.31 seconds)\"]' data-show='true'><div id = 'default' /></div></div>"
      ],
      "text/plain": [
       "<Result 'D:\\\\Geoprocessing\\\\gcwFinal\\\\region3.shp'>"
      ]
     },
     "execution_count": 11,
     "metadata": {},
     "output_type": "execute_result"
    }
   ],
   "source": [
    "region3 = r\"D:\\Geoprocessing\\gcwFinal\\region3.shp\"\n",
    "where_clause = '\"CNTY_NM\" = \\'Hamilton\\' or \"CNTY_NM\" = \\'Coryell\\' or \"CNTY_NM\" = \\'McLennan\\' or \"CNTY_NM\" = \\'Lampasas\\' or \"CNTY_NM\" = \\'Bell\\''\n",
    "arcpy.analysis.Select(warblerCounties_utm14n, region3, where_clause)"
   ]
  },
  {
   "cell_type": "code",
   "execution_count": 12,
   "id": "9248b2e9-1005-45b4-a21e-0ae4f87af799",
   "metadata": {},
   "outputs": [
    {
     "data": {
      "text/html": [
       "<div class='gpresult'><h2>Messages</h2><div id='messages' data-messages='[\"Start Time: Friday, December 6, 2024 11:33:51 PM\",\"Succeeded at Friday, December 6, 2024 11:33:56 PM (Elapsed Time: 5.37 seconds)\"]' data-show='true'><div id = 'default' /></div></div>"
      ],
      "text/plain": [
       "<Result 'D:\\\\Geoprocessing\\\\gcwFinal\\\\region4.shp'>"
      ]
     },
     "execution_count": 12,
     "metadata": {},
     "output_type": "execute_result"
    }
   ],
   "source": [
    "region4 = r\"D:\\Geoprocessing\\gcwFinal\\region4.shp\"\n",
    "where_clause = '\"CNTY_NM\" = \\'San Saba\\' or \"CNTY_NM\" = \\'Llano\\' or \"CNTY_NM\" = \\'Mason\\' or \"CNTY_NM\" = \\'Gillespie\\' or \"CNTY_NM\" = \\'Blanco\\''\n",
    "arcpy.analysis.Select(warblerCounties_utm14n, region4, where_clause)"
   ]
  },
  {
   "cell_type": "code",
   "execution_count": 13,
   "id": "049072ca-cbcd-4b84-b50f-f28469fad6ef",
   "metadata": {},
   "outputs": [
    {
     "data": {
      "text/html": [
       "<div class='gpresult'><h2>Messages</h2><div id='messages' data-messages='[\"Start Time: Friday, December 6, 2024 11:33:56 PM\",\"Succeeded at Friday, December 6, 2024 11:33:57 PM (Elapsed Time: 0.92 seconds)\"]' data-show='true'><div id = 'default' /></div></div>"
      ],
      "text/plain": [
       "<Result 'D:\\\\Geoprocessing\\\\gcwFinal\\\\region5.shp'>"
      ]
     },
     "execution_count": 13,
     "metadata": {},
     "output_type": "execute_result"
    }
   ],
   "source": [
    "region5 = r\"D:\\Geoprocessing\\gcwFinal\\region5.shp\"\n",
    "where_clause = '\"CNTY_NM\" = \\'Burnet\\' or \"CNTY_NM\" = \\'Williamson\\' or \"CNTY_NM\" = \\'Travis\\' or \"CNTY_NM\" = \\'Hays\\' '\n",
    "arcpy.analysis.Select(warblerCounties_utm14n, region5, where_clause)"
   ]
  },
  {
   "cell_type": "code",
   "execution_count": 14,
   "id": "6cd9807d-7f2d-4a6d-973b-d7305957f6c2",
   "metadata": {},
   "outputs": [
    {
     "data": {
      "text/html": [
       "<div class='gpresult'><h2>Messages</h2><div id='messages' data-messages='[\"Start Time: Friday, December 6, 2024 11:33:57 PM\",\"Succeeded at Friday, December 6, 2024 11:34:03 PM (Elapsed Time: 5.25 seconds)\"]' data-show='true'><div id = 'default' /></div></div>"
      ],
      "text/plain": [
       "<Result 'D:\\\\Geoprocessing\\\\gcwFinal\\\\region6.shp'>"
      ]
     },
     "execution_count": 14,
     "metadata": {},
     "output_type": "execute_result"
    }
   ],
   "source": [
    "region6 = r\"D:\\Geoprocessing\\gcwFinal\\region6.shp\"\n",
    "where_clause = '\"CNTY_NM\" = \\'Kendall\\' or \"CNTY_NM\" = \\'Comal\\' or \"CNTY_NM\" = \\'Bexar\\''\n",
    "arcpy.analysis.Select(warblerCounties_utm14n, region6, where_clause)"
   ]
  },
  {
   "cell_type": "code",
   "execution_count": 15,
   "id": "048fd617-de08-449a-8711-9ae9a39a6cc2",
   "metadata": {},
   "outputs": [
    {
     "data": {
      "text/html": [
       "<div class='gpresult'><h2>Messages</h2><div id='messages' data-messages='[\"Start Time: Friday, December 6, 2024 11:34:03 PM\",\"Succeeded at Friday, December 6, 2024 11:34:04 PM (Elapsed Time: 1.21 seconds)\"]' data-show='true'><div id = 'default' /></div></div>"
      ],
      "text/plain": [
       "<Result 'D:\\\\Geoprocessing\\\\gcwFinal\\\\region7.shp'>"
      ]
     },
     "execution_count": 15,
     "metadata": {},
     "output_type": "execute_result"
    }
   ],
   "source": [
    "region7 = r\"D:\\Geoprocessing\\gcwFinal\\region7.shp\"\n",
    "where_clause = '\"CNTY_NM\" = \\'Menard\\' or \"CNTY_NM\" = \\'Kimble\\' or \"CNTY_NM\" = \\'Edwards\\' or \"CNTY_NM\" = \\'Kerr\\''\n",
    "arcpy.analysis.Select(warblerCounties_utm14n, region7, where_clause)"
   ]
  },
  {
   "cell_type": "code",
   "execution_count": 16,
   "id": "5c017ccf-e0d1-417f-a803-91d414745481",
   "metadata": {},
   "outputs": [
    {
     "data": {
      "text/html": [
       "<div class='gpresult'><h2>Messages</h2><div id='messages' data-messages='[\"Start Time: Friday, December 6, 2024 11:34:04 PM\",\"Succeeded at Friday, December 6, 2024 11:34:05 PM (Elapsed Time: 0.65 seconds)\"]' data-show='true'><div id = 'default' /></div></div>"
      ],
      "text/plain": [
       "<Result 'D:\\\\Geoprocessing\\\\gcwFinal\\\\region8.shp'>"
      ]
     },
     "execution_count": 16,
     "metadata": {},
     "output_type": "execute_result"
    }
   ],
   "source": [
    "region8 = r\"D:\\Geoprocessing\\gcwFinal\\region8.shp\"\n",
    "where_clause = '\"CNTY_NM\" = \\'Real\\' or \"CNTY_NM\" = \\'Bandera\\' or \"CNTY_NM\" = \\'Medina\\' or \"CNTY_NM\" = \\'Uvalde\\' or \"CNTY_NM\" = \\'Kinney\\''\n",
    "arcpy.analysis.Select(warblerCounties_utm14n, region8, where_clause)"
   ]
  },
  {
   "cell_type": "code",
   "execution_count": 17,
   "id": "b6ab4318-a53d-49ca-aad5-7969322f4d7d",
   "metadata": {},
   "outputs": [
    {
     "data": {
      "text/html": [
       "<div class='gpresult'><h2>Messages</h2><div id='messages' data-messages='[\"Start Time: Friday, December 6, 2024 11:34:06 PM\",\"Dissolving...\",\"Succeeded at Friday, December 6, 2024 11:34:07 PM (Elapsed Time: 0.91 seconds)\"]' data-show='true'><div id = 'default' /></div></div>"
      ],
      "text/plain": [
       "<Result 'D:\\\\Geoprocessing\\\\gcwFinal\\\\combined_counties.shp'>"
      ]
     },
     "execution_count": 17,
     "metadata": {},
     "output_type": "execute_result"
    }
   ],
   "source": [
    "#need to repair geometry before dissolve will work \n",
    "arcpy.management.RepairGeometry(warblerCounties_utm14n)\n",
    "\n",
    "warblerCounties_utm14n = r\"D:\\Geoprocessing\\gcwFinal\\warblerCounties_utm14n.shp\" \n",
    "output_combo_counties = r\"D:\\Geoprocessing\\gcwFinal\\combined_counties.shp\"\n",
    "\n",
    "#use dissolve to combine all selected features into one polygon\n",
    "arcpy.management.Dissolve(in_features = warblerCounties_utm14n, out_feature_class = output_combo_counties)"
   ]
  },
  {
   "cell_type": "code",
   "execution_count": 18,
   "id": "17668813-5c51-4fec-bc1a-ec82ce9a7e91",
   "metadata": {},
   "outputs": [
    {
     "data": {
      "text/plain": [
       "['NLCD_2001_Land_Cover_L48_20210604_xTkDXM91lC6NrMsxabug.tiff',\n",
       " 'NLCD_2004_Land_Cover_L48_20210604_xTkDXM91lC6NrMsxabug.tiff',\n",
       " 'NLCD_2006_Land_Cover_L48_20210604_xTkDXM91lC6NrMsxabug.tiff',\n",
       " 'NLCD_2008_Land_Cover_L48_20210604_xTkDXM91lC6NrMsxabug.tiff',\n",
       " 'NLCD_2011_Land_Cover_L48_20210604_xTkDXM91lC6NrMsxabug.tiff',\n",
       " 'NLCD_2013_Land_Cover_L48_20210604_xTkDXM91lC6NrMsxabug.tiff',\n",
       " 'NLCD_2016_Land_Cover_L48_20210604_xTkDXM91lC6NrMsxabug.tiff',\n",
       " 'NLCD_2019_Land_Cover_L48_20210604_xTkDXM91lC6NrMsxabug.tiff',\n",
       " 'NLCD_2021_Land_Cover_L48_20230630_xTkDXM91lC6NrMsxabug.tiff']"
      ]
     },
     "execution_count": 18,
     "metadata": {},
     "output_type": "execute_result"
    }
   ],
   "source": [
    "#make a list of rasters\n",
    "rastList = [f for f in os.listdir(r'D:\\Geoprocessing\\gcwFinal\\NLCD_xTkDXM91lC6NrMsxabug') if f.endswith(\"tiff\")]\n",
    "rastList"
   ]
  },
  {
   "cell_type": "code",
   "execution_count": 19,
   "id": "ac6fe349-c4c1-4f3d-a23f-9cd2067c62af",
   "metadata": {},
   "outputs": [
    {
     "data": {
      "text/plain": [
       "'D:\\\\Geoprocessing\\\\gcwFinal\\\\NLCD_xTkDXM91lC6NrMsxabug\\\\NLCD_2001_Land_Cover_L48_20210604_xTkDXM91lC6NrMsxabug.tiff'"
      ]
     },
     "execution_count": 19,
     "metadata": {},
     "output_type": "execute_result"
    }
   ],
   "source": [
    "#create a variable for nlcd01\n",
    "nlcd_01 = r\"D:\\Geoprocessing\\gcwFinal\\NLCD_xTkDXM91lC6NrMsxabug\" + '\\\\' + rastList[0]\n",
    "nlcd_01"
   ]
  },
  {
   "cell_type": "code",
   "execution_count": 20,
   "id": "2c85ad9f-0530-47d5-bd58-1113dbd0154a",
   "metadata": {},
   "outputs": [
    {
     "data": {
      "text/plain": [
       "'D:\\\\Geoprocessing\\\\gcwFinal\\\\NLCD_xTkDXM91lC6NrMsxabug\\\\NLCD_2021_Land_Cover_L48_20230630_xTkDXM91lC6NrMsxabug.tiff'"
      ]
     },
     "execution_count": 20,
     "metadata": {},
     "output_type": "execute_result"
    }
   ],
   "source": [
    "#create a variable for nlcd21\n",
    "nlcd_21 = r\"D:\\Geoprocessing\\gcwFinal\\NLCD_xTkDXM91lC6NrMsxabug\" + '\\\\' + rastList[-1]\n",
    "nlcd_21"
   ]
  },
  {
   "cell_type": "code",
   "execution_count": 21,
   "id": "8f979ac7-ea07-4aa8-97da-38b17a5f4a95",
   "metadata": {},
   "outputs": [],
   "source": [
    "#used project raster tool in ArcPro to project nlcd_01 and nlcd_21 to UTM 14n"
   ]
  },
  {
   "cell_type": "code",
   "execution_count": 22,
   "id": "b47f9c8b-21b5-4126-a9a5-67f2c1e2f890",
   "metadata": {},
   "outputs": [
    {
     "data": {
      "text/plain": [
       "'D:\\\\Geoprocessing\\\\gcwFinal\\\\nlcd_utm_01.tif'"
      ]
     },
     "execution_count": 22,
     "metadata": {},
     "output_type": "execute_result"
    }
   ],
   "source": [
    "#create nlcd01 variable in the new coordinate system\n",
    "nlcd_utm_01 = r'D:\\Geoprocessing\\gcwFinal\\nlcd_utm_01.tif'\n",
    "nlcd_utm_01"
   ]
  },
  {
   "cell_type": "code",
   "execution_count": 23,
   "id": "0d11ac32-acbc-4aec-89bd-97f66dbac099",
   "metadata": {},
   "outputs": [
    {
     "data": {
      "text/plain": [
       "'D:\\\\Geoprocessing\\\\gcwFinal\\\\nlcd_utm_21.tif'"
      ]
     },
     "execution_count": 23,
     "metadata": {},
     "output_type": "execute_result"
    }
   ],
   "source": [
    "#create nlcd21 variable in the new coordinate system\n",
    "nlcd_utm_21 = r'D:\\Geoprocessing\\gcwFinal\\nlcd_utm_21.tif'\n",
    "nlcd_utm_21"
   ]
  },
  {
   "cell_type": "code",
   "execution_count": 24,
   "id": "02dc51be-e260-4020-aab8-e7935315ed8d",
   "metadata": {},
   "outputs": [],
   "source": [
    "#set the environment extent and mask to the dissolved warbler counties region\n",
    "arcpy.env.extent = output_combo_counties\n",
    "arcpy.env.mask = output_combo_counties "
   ]
  },
  {
   "cell_type": "code",
   "execution_count": null,
   "id": "2c59e77f-285e-431a-aa20-52de783f9c21",
   "metadata": {},
   "outputs": [],
   "source": [
    "#use the dissolved warbler counties area as a mask for the nlcd01 data\n",
    "inRaster = nlcd_utm_01\n",
    "inMaskData = output_combo_counties\n",
    "extraction_area = \"INSIDE\"\n",
    "\n",
    "gcw_extract_nlcd_01 = ExtractByMask(inRaster, inMaskData, extraction_area)\n",
    "\n",
    "gcw_extract_nlcd_01.save(r\"D:\\Geoprocessing\\gcwFinal\\gcw_extract_nlcd_01.tif\")"
   ]
  },
  {
   "cell_type": "code",
   "execution_count": null,
   "id": "d9522815-96d4-4599-aa48-33809d3c1620",
   "metadata": {},
   "outputs": [],
   "source": [
    "#use the dissolved warbler counties area as a mask for the nlcd21 data\n",
    "inRaster2 = nlcd_utm_21\n",
    "inMaskData = output_combo_counties\n",
    "extraction_area = \"INSIDE\"\n",
    "\n",
    "gcw_extract_nlcd_21 = ExtractByMask(inRaster2, inMaskData, extraction_area)\n",
    "\n",
    "gcw_extract_nlcd_21.save(r\"D:\\Geoprocessing\\gcwFinal\\gcw_extract_nlcd_21.tif\")"
   ]
  },
  {
   "cell_type": "code",
   "execution_count": 27,
   "id": "2f9b7fdb-6eac-44c4-b3bd-aeb1a550791c",
   "metadata": {},
   "outputs": [],
   "source": [
    "#next step is to write a con statement to make the forest tifs\n",
    "#Con(in_conditional_raster, in_true_raster_or_constant, {in_false_raster_or_constant}, {where_clause})"
   ]
  },
  {
   "cell_type": "code",
   "execution_count": 28,
   "id": "f52b306d-69c2-4d18-8b68-0ea14b94694c",
   "metadata": {},
   "outputs": [],
   "source": [
    "#forest_01 is what we are saving the new layer as\n",
    "#gcw_extract_nlcd_01 is where we are pulling the data from\n",
    "\n",
    "#gcw_extract_nlcd_01 = r\"D:\\Geoprocessing\\gcwFinal\\gcw_extract_nlcd_01.tif\"\n",
    "#forest_outf_01 = r\"D:\\Geoprocessing\\gcwFinal\\forest_outf_01.tif\"\n",
    "#condition = '(\"VALUE\" = 41) | (\"VALUE\" = 42) | (\"VALUE\" = 43)'\n",
    "\n",
    "#forest_con_01 = sa.Con(gcw_extract_nlcd_01, 1, condition)\n",
    "#forest_con_01.save(forest_outf_01)"
   ]
  },
  {
   "cell_type": "code",
   "execution_count": 29,
   "id": "e92f3615-9dfa-4845-bac9-b4354483ea26",
   "metadata": {},
   "outputs": [],
   "source": [
    "#Used a CON statement in ArcPro to create forest_01 and forest_21 which are landcovers 41, 42, and 43: represents Warbler habitat"
   ]
  },
  {
   "cell_type": "code",
   "execution_count": 30,
   "id": "f48eb1c7-45d7-4e3a-9bf3-02f810990015",
   "metadata": {},
   "outputs": [],
   "source": [
    "#just forest raster from nlcd01\n",
    "forest_01 = r'D:\\Geoprocessing\\gcwFinal\\forest_01.tif'"
   ]
  },
  {
   "cell_type": "code",
   "execution_count": 31,
   "id": "a4c2a3d5-54ea-4123-b485-f4ba3e48bda2",
   "metadata": {},
   "outputs": [],
   "source": [
    "#just forest raster from nlcd21\n",
    "forest_21 = r'D:\\Geoprocessing\\gcwFinal\\forest_21.tif'"
   ]
  },
  {
   "cell_type": "code",
   "execution_count": 32,
   "id": "72669d60-65b2-4dc7-997d-d7ab78f66884",
   "metadata": {},
   "outputs": [
    {
     "data": {
      "text/plain": [
       "['D:\\\\Geoprocessing\\\\gcwFinal\\\\region1.shp',\n",
       " 'D:\\\\Geoprocessing\\\\gcwFinal\\\\region2.shp',\n",
       " 'D:\\\\Geoprocessing\\\\gcwFinal\\\\region3.shp',\n",
       " 'D:\\\\Geoprocessing\\\\gcwFinal\\\\region4.shp',\n",
       " 'D:\\\\Geoprocessing\\\\gcwFinal\\\\region5.shp',\n",
       " 'D:\\\\Geoprocessing\\\\gcwFinal\\\\region6.shp',\n",
       " 'D:\\\\Geoprocessing\\\\gcwFinal\\\\region7.shp',\n",
       " 'D:\\\\Geoprocessing\\\\gcwFinal\\\\region8.shp']"
      ]
     },
     "execution_count": 32,
     "metadata": {},
     "output_type": "execute_result"
    }
   ],
   "source": [
    "#create a list of all the regions\n",
    "regionList = [region1, region2, region3, region4, region5, region6, region7, region8]\n",
    "regionList"
   ]
  },
  {
   "cell_type": "code",
   "execution_count": 33,
   "id": "7901e84b-0658-47a7-b906-d0e54644bf2d",
   "metadata": {},
   "outputs": [
    {
     "data": {
      "text/plain": [
       "'D:\\\\Geoprocessing\\\\gcwFinal\\\\gcw_extract_nlcd_21.tif'"
      ]
     },
     "execution_count": 33,
     "metadata": {},
     "output_type": "execute_result"
    }
   ],
   "source": [
    "#create a variable for the nlcd21 masked by the warbler counties\n",
    "gcw_extract_nlcd_21 = r\"D:\\Geoprocessing\\gcwFinal\\gcw_extract_nlcd_21.tif\"\n",
    "gcw_extract_nlcd_21"
   ]
  },
  {
   "cell_type": "code",
   "execution_count": 34,
   "id": "40b21969-7dd2-4f96-b0b0-22a97c10ac97",
   "metadata": {},
   "outputs": [
    {
     "data": {
      "text/plain": [
       "'D:\\\\Geoprocessing\\\\gcwFinal\\\\gcw_extract_nlcd_01.tif'"
      ]
     },
     "execution_count": 34,
     "metadata": {},
     "output_type": "execute_result"
    }
   ],
   "source": [
    "#create a variable for the nlcd01 masked by the warbler counties\n",
    "gcw_extract_nlcd_01 = r\"D:\\Geoprocessing\\gcwFinal\\gcw_extract_nlcd_01.tif\"\n",
    "gcw_extract_nlcd_01 "
   ]
  },
  {
   "cell_type": "code",
   "execution_count": 35,
   "id": "5f1f9a15-6412-40ed-a194-80a7a2357ebe",
   "metadata": {},
   "outputs": [],
   "source": [
    "#create a loop that dissolves the regions (takes away the county boundaries in each region)"
   ]
  },
  {
   "cell_type": "code",
   "execution_count": 36,
   "id": "4b57708a-ba29-4321-ba6c-a5d1bf118d50",
   "metadata": {},
   "outputs": [],
   "source": [
    "#test for region 1\n",
    "#region1 = r\"D:\\Geoprocessing\\gcwFinal\\region1.shp\"\n",
    "#out_region1 = r\"D:\\Geoprocessing\\gcwFinal\\dissolve_region1.shp\"\n",
    "\n",
    "#need to repair geometry before dissolve will work\n",
    "#arcpy.management.RepairGeometry(region1)\n",
    "\n",
    "#arcpy.management.Dissolve(in_features=region1, out_feature_class=out_region1)"
   ]
  },
  {
   "cell_type": "code",
   "execution_count": 37,
   "id": "c167fc04-ec87-48bf-b1d6-ceca0d8296e5",
   "metadata": {},
   "outputs": [
    {
     "name": "stdout",
     "output_type": "stream",
     "text": [
      "saved dissolved output for region D:\\Geoprocessing\\gcwFinal\\region1.shp as D:\\Geoprocessing\\gcwFinal\\region1_dissolve.shp\n",
      "saved dissolved output for region D:\\Geoprocessing\\gcwFinal\\region2.shp as D:\\Geoprocessing\\gcwFinal\\region2_dissolve.shp\n",
      "saved dissolved output for region D:\\Geoprocessing\\gcwFinal\\region3.shp as D:\\Geoprocessing\\gcwFinal\\region3_dissolve.shp\n",
      "saved dissolved output for region D:\\Geoprocessing\\gcwFinal\\region4.shp as D:\\Geoprocessing\\gcwFinal\\region4_dissolve.shp\n",
      "saved dissolved output for region D:\\Geoprocessing\\gcwFinal\\region5.shp as D:\\Geoprocessing\\gcwFinal\\region5_dissolve.shp\n",
      "saved dissolved output for region D:\\Geoprocessing\\gcwFinal\\region6.shp as D:\\Geoprocessing\\gcwFinal\\region6_dissolve.shp\n",
      "saved dissolved output for region D:\\Geoprocessing\\gcwFinal\\region7.shp as D:\\Geoprocessing\\gcwFinal\\region7_dissolve.shp\n",
      "saved dissolved output for region D:\\Geoprocessing\\gcwFinal\\region8.shp as D:\\Geoprocessing\\gcwFinal\\region8_dissolve.shp\n"
     ]
    }
   ],
   "source": [
    "dissRegionList = []\n",
    "\n",
    "for region in regionList: \n",
    "    \n",
    "    arcpy.management.RepairGeometry(region)\n",
    "    \n",
    "    og_reg_name = region[:-4]\n",
    "    out_region = og_reg_name + \"_dissolve.shp\"\n",
    "\n",
    "    arcpy.management.Dissolve(in_features=region, out_feature_class=out_region)\n",
    "    \n",
    "    dissRegionList.append(out_region)\n",
    "    \n",
    "    print(f'saved dissolved output for region {region} as {out_region}')"
   ]
  },
  {
   "cell_type": "code",
   "execution_count": 39,
   "id": "2c3a7346-f3d7-4284-b240-b535317a79b5",
   "metadata": {},
   "outputs": [
    {
     "data": {
      "text/plain": [
       "['D:\\\\Geoprocessing\\\\gcwFinal\\\\region1_dissolve.shp',\n",
       " 'D:\\\\Geoprocessing\\\\gcwFinal\\\\region2_dissolve.shp',\n",
       " 'D:\\\\Geoprocessing\\\\gcwFinal\\\\region3_dissolve.shp',\n",
       " 'D:\\\\Geoprocessing\\\\gcwFinal\\\\region4_dissolve.shp',\n",
       " 'D:\\\\Geoprocessing\\\\gcwFinal\\\\region5_dissolve.shp',\n",
       " 'D:\\\\Geoprocessing\\\\gcwFinal\\\\region6_dissolve.shp',\n",
       " 'D:\\\\Geoprocessing\\\\gcwFinal\\\\region7_dissolve.shp',\n",
       " 'D:\\\\Geoprocessing\\\\gcwFinal\\\\region8_dissolve.shp']"
      ]
     },
     "execution_count": 39,
     "metadata": {},
     "output_type": "execute_result"
    }
   ],
   "source": [
    "dissRegionList"
   ]
  },
  {
   "cell_type": "code",
   "execution_count": null,
   "id": "3a0641f1-99af-46bc-a3bc-38dde190adfa",
   "metadata": {},
   "outputs": [],
   "source": [
    "#create a loop that uses each region as a mask for nlcd01"
   ]
  },
  {
   "cell_type": "code",
   "execution_count": 40,
   "id": "59494bbd-654e-4ef3-8b1f-84d6445f8baa",
   "metadata": {},
   "outputs": [
    {
     "name": "stdout",
     "output_type": "stream",
     "text": [
      "saved output for region D:\\Geoprocessing\\gcwFinal\\region1_dissolve.shp as D:\\Geoprocessing\\gcwFinal\\region1_dissolve_nlcd_01.tif\n",
      "saved output for region D:\\Geoprocessing\\gcwFinal\\region2_dissolve.shp as D:\\Geoprocessing\\gcwFinal\\region2_dissolve_nlcd_01.tif\n",
      "saved output for region D:\\Geoprocessing\\gcwFinal\\region3_dissolve.shp as D:\\Geoprocessing\\gcwFinal\\region3_dissolve_nlcd_01.tif\n",
      "saved output for region D:\\Geoprocessing\\gcwFinal\\region4_dissolve.shp as D:\\Geoprocessing\\gcwFinal\\region4_dissolve_nlcd_01.tif\n",
      "saved output for region D:\\Geoprocessing\\gcwFinal\\region5_dissolve.shp as D:\\Geoprocessing\\gcwFinal\\region5_dissolve_nlcd_01.tif\n",
      "saved output for region D:\\Geoprocessing\\gcwFinal\\region6_dissolve.shp as D:\\Geoprocessing\\gcwFinal\\region6_dissolve_nlcd_01.tif\n",
      "saved output for region D:\\Geoprocessing\\gcwFinal\\region7_dissolve.shp as D:\\Geoprocessing\\gcwFinal\\region7_dissolve_nlcd_01.tif\n",
      "saved output for region D:\\Geoprocessing\\gcwFinal\\region8_dissolve.shp as D:\\Geoprocessing\\gcwFinal\\region8_dissolve_nlcd_01.tif\n"
     ]
    }
   ],
   "source": [
    "for region in dissRegionList:\n",
    "    \n",
    "    arcpy.env.extent = region\n",
    "    arcpy.env.mask = region\n",
    "\n",
    "    inRaster = gcw_extract_nlcd_01\n",
    "    inMaskData = region\n",
    "    extraction_area = \"INSIDE\"\n",
    "\n",
    "    og_name = region[:-4]\n",
    "    outfile_01 = og_name + \"_nlcd_01.tif\"\n",
    "    \n",
    "    outraster_01 = ExtractByMask(inRaster, inMaskData, extraction_area)\n",
    "\n",
    "    outraster_01.save(outfile_01)\n",
    "    \n",
    "    print(f'saved output for region {region} as {outfile_01}')"
   ]
  },
  {
   "cell_type": "code",
   "execution_count": null,
   "id": "37451c87-ab14-4dab-a989-b2239ad28045",
   "metadata": {},
   "outputs": [],
   "source": [
    "#create a loop that uses each region as a mask for nlcd21"
   ]
  },
  {
   "cell_type": "code",
   "execution_count": 41,
   "id": "b5308c7d-2992-4d30-8a7b-5d5d2825c3ae",
   "metadata": {
    "tags": []
   },
   "outputs": [
    {
     "name": "stdout",
     "output_type": "stream",
     "text": [
      "saved output for region D:\\Geoprocessing\\gcwFinal\\region1_dissolve.shp as D:\\Geoprocessing\\gcwFinal\\region1_dissolve_nlcd_21.tif\n",
      "saved output for region D:\\Geoprocessing\\gcwFinal\\region2_dissolve.shp as D:\\Geoprocessing\\gcwFinal\\region2_dissolve_nlcd_21.tif\n",
      "saved output for region D:\\Geoprocessing\\gcwFinal\\region3_dissolve.shp as D:\\Geoprocessing\\gcwFinal\\region3_dissolve_nlcd_21.tif\n",
      "saved output for region D:\\Geoprocessing\\gcwFinal\\region4_dissolve.shp as D:\\Geoprocessing\\gcwFinal\\region4_dissolve_nlcd_21.tif\n",
      "saved output for region D:\\Geoprocessing\\gcwFinal\\region5_dissolve.shp as D:\\Geoprocessing\\gcwFinal\\region5_dissolve_nlcd_21.tif\n",
      "saved output for region D:\\Geoprocessing\\gcwFinal\\region6_dissolve.shp as D:\\Geoprocessing\\gcwFinal\\region6_dissolve_nlcd_21.tif\n",
      "saved output for region D:\\Geoprocessing\\gcwFinal\\region7_dissolve.shp as D:\\Geoprocessing\\gcwFinal\\region7_dissolve_nlcd_21.tif\n",
      "saved output for region D:\\Geoprocessing\\gcwFinal\\region8_dissolve.shp as D:\\Geoprocessing\\gcwFinal\\region8_dissolve_nlcd_21.tif\n"
     ]
    }
   ],
   "source": [
    "for region in dissRegionList:\n",
    "    \n",
    "    arcpy.env.extent = region\n",
    "    arcpy.env.mask = region\n",
    "\n",
    "    inRaster = gcw_extract_nlcd_21\n",
    "    inMaskData = region\n",
    "    extraction_area = \"INSIDE\"\n",
    "\n",
    "    og_name = region[:-4]\n",
    "    outfile_21 = og_name + \"_nlcd_21.tif\"\n",
    "\n",
    "    outraster_21 = ExtractByMask(inRaster, inMaskData, extraction_area)\n",
    "\n",
    "    outraster_21.save(outfile_21)\n",
    "    \n",
    "    print(f'saved output for region {region} as {outfile_21}')"
   ]
  },
  {
   "cell_type": "code",
   "execution_count": 42,
   "id": "7247845a-ff3d-496f-b9d2-c3f3ee017308",
   "metadata": {},
   "outputs": [],
   "source": [
    "#cretae a list for each nlcd21 region"
   ]
  },
  {
   "cell_type": "code",
   "execution_count": 43,
   "id": "01d0eaeb-8797-4f4c-ad73-7dfbe2f3a056",
   "metadata": {
    "tags": []
   },
   "outputs": [
    {
     "data": {
      "text/plain": [
       "['region1_dissolve_nlcd_21.tif',\n",
       " 'region4_dissolve_nlcd_21.tif',\n",
       " 'region2_dissolve_nlcd_21.tif',\n",
       " 'region3_dissolve_nlcd_21.tif',\n",
       " 'region5_dissolve_nlcd_21.tif',\n",
       " 'region6_dissolve_nlcd_21.tif',\n",
       " 'region7_dissolve_nlcd_21.tif',\n",
       " 'region8_dissolve_nlcd_21.tif']"
      ]
     },
     "execution_count": 43,
     "metadata": {},
     "output_type": "execute_result"
    }
   ],
   "source": [
    "regionList_nlcd_21 = [f for f in os.listdir(r'D:\\Geoprocessing\\gcwFinal') if f.endswith(\"dissolve_nlcd_21.tif\")]\n",
    "regionList_nlcd_21"
   ]
  },
  {
   "cell_type": "code",
   "execution_count": null,
   "id": "14973514-d43b-4cd0-a932-a164f226cf68",
   "metadata": {},
   "outputs": [],
   "source": [
    "#create a list for each nlcd01 region"
   ]
  },
  {
   "cell_type": "code",
   "execution_count": 44,
   "id": "b1f6ed23-b285-43c0-a93a-96afb467da3a",
   "metadata": {
    "tags": []
   },
   "outputs": [
    {
     "data": {
      "text/plain": [
       "['region7_dissolve_nlcd_01.tif',\n",
       " 'region8_dissolve_nlcd_01.tif',\n",
       " 'region6_dissolve_nlcd_01.tif',\n",
       " 'region5_dissolve_nlcd_01.tif',\n",
       " 'region4_dissolve_nlcd_01.tif',\n",
       " 'region3_dissolve_nlcd_01.tif',\n",
       " 'region1_dissolve_nlcd_01.tif',\n",
       " 'region2_dissolve_nlcd_01.tif']"
      ]
     },
     "execution_count": 44,
     "metadata": {},
     "output_type": "execute_result"
    }
   ],
   "source": [
    "regionList_nlcd_01 = [f for f in os.listdir(r'D:\\Geoprocessing\\gcwFinal') if f.endswith(\"dissolve_nlcd_01.tif\")]\n",
    "regionList_nlcd_01"
   ]
  },
  {
   "cell_type": "code",
   "execution_count": null,
   "id": "d40c3606-08c1-4bb9-bd04-eb9a8f6d0819",
   "metadata": {},
   "outputs": [],
   "source": [
    "#create a list for both years' nlcd regions"
   ]
  },
  {
   "cell_type": "code",
   "execution_count": 45,
   "id": "db13f0dc-42e9-47ca-9237-de830ceadd4a",
   "metadata": {
    "tags": []
   },
   "outputs": [
    {
     "data": {
      "text/plain": [
       "['region7_dissolve_nlcd_01.tif',\n",
       " 'region8_dissolve_nlcd_01.tif',\n",
       " 'region1_dissolve_nlcd_21.tif',\n",
       " 'region6_dissolve_nlcd_01.tif',\n",
       " 'region4_dissolve_nlcd_21.tif',\n",
       " 'region2_dissolve_nlcd_21.tif',\n",
       " 'region5_dissolve_nlcd_01.tif',\n",
       " 'region4_dissolve_nlcd_01.tif',\n",
       " 'region3_dissolve_nlcd_21.tif',\n",
       " 'region3_dissolve_nlcd_01.tif',\n",
       " 'region5_dissolve_nlcd_21.tif',\n",
       " 'region1_dissolve_nlcd_01.tif',\n",
       " 'region6_dissolve_nlcd_21.tif',\n",
       " 'region7_dissolve_nlcd_21.tif',\n",
       " 'region8_dissolve_nlcd_21.tif',\n",
       " 'region2_dissolve_nlcd_01.tif']"
      ]
     },
     "execution_count": 45,
     "metadata": {},
     "output_type": "execute_result"
    }
   ],
   "source": [
    "regionList_nlcd = [f for f in os.listdir(r'D:\\Geoprocessing\\gcwFinal') if f.endswith((\"dissolve_nlcd_01.tif\",\"dissolve_nlcd_21.tif\"))]\n",
    "regionList_nlcd"
   ]
  },
  {
   "cell_type": "code",
   "execution_count": 46,
   "id": "93cede08-0deb-4478-b221-3dde21eb0bc7",
   "metadata": {},
   "outputs": [],
   "source": [
    "#i need regionLists to be in numerical order"
   ]
  },
  {
   "cell_type": "code",
   "execution_count": 47,
   "id": "789b22da-31b5-4203-94b3-a2b2a1d72889",
   "metadata": {
    "tags": []
   },
   "outputs": [
    {
     "data": {
      "text/plain": [
       "['region1_dissolve_nlcd_01.tif',\n",
       " 'region2_dissolve_nlcd_01.tif',\n",
       " 'region3_dissolve_nlcd_01.tif',\n",
       " 'region4_dissolve_nlcd_01.tif',\n",
       " 'region5_dissolve_nlcd_01.tif',\n",
       " 'region6_dissolve_nlcd_01.tif',\n",
       " 'region7_dissolve_nlcd_01.tif',\n",
       " 'region8_dissolve_nlcd_01.tif']"
      ]
     },
     "execution_count": 47,
     "metadata": {},
     "output_type": "execute_result"
    }
   ],
   "source": [
    "regionList_nlcd_sorted_01 = sorted(regionList_nlcd_01, key = lambda f: int(f.split('_')[0][6:]))\n",
    "regionList_nlcd_sorted_01 "
   ]
  },
  {
   "cell_type": "code",
   "execution_count": 48,
   "id": "14fad428-0b71-4784-9192-c589014d4816",
   "metadata": {
    "tags": []
   },
   "outputs": [
    {
     "data": {
      "text/plain": [
       "['region1_dissolve_nlcd_21.tif',\n",
       " 'region2_dissolve_nlcd_21.tif',\n",
       " 'region3_dissolve_nlcd_21.tif',\n",
       " 'region4_dissolve_nlcd_21.tif',\n",
       " 'region5_dissolve_nlcd_21.tif',\n",
       " 'region6_dissolve_nlcd_21.tif',\n",
       " 'region7_dissolve_nlcd_21.tif',\n",
       " 'region8_dissolve_nlcd_21.tif']"
      ]
     },
     "execution_count": 48,
     "metadata": {},
     "output_type": "execute_result"
    }
   ],
   "source": [
    "regionList_nlcd_sorted_21 = sorted(regionList_nlcd_21, key = lambda f: int(f.split('_')[0][6:]))\n",
    "regionList_nlcd_sorted_21"
   ]
  },
  {
   "cell_type": "code",
   "execution_count": 49,
   "id": "f5ee9304-66ef-4fd7-a94f-8530b5d277c6",
   "metadata": {
    "tags": []
   },
   "outputs": [
    {
     "data": {
      "text/plain": [
       "['region1_dissolve_nlcd_01.tif',\n",
       " 'region2_dissolve_nlcd_01.tif',\n",
       " 'region3_dissolve_nlcd_01.tif',\n",
       " 'region4_dissolve_nlcd_01.tif',\n",
       " 'region5_dissolve_nlcd_01.tif',\n",
       " 'region6_dissolve_nlcd_01.tif',\n",
       " 'region7_dissolve_nlcd_01.tif',\n",
       " 'region8_dissolve_nlcd_01.tif',\n",
       " 'region1_dissolve_nlcd_21.tif',\n",
       " 'region2_dissolve_nlcd_21.tif',\n",
       " 'region3_dissolve_nlcd_21.tif',\n",
       " 'region4_dissolve_nlcd_21.tif',\n",
       " 'region5_dissolve_nlcd_21.tif',\n",
       " 'region6_dissolve_nlcd_21.tif',\n",
       " 'region7_dissolve_nlcd_21.tif',\n",
       " 'region8_dissolve_nlcd_21.tif']"
      ]
     },
     "execution_count": 49,
     "metadata": {},
     "output_type": "execute_result"
    }
   ],
   "source": [
    "regionList_nlcd_sorted = regionList_nlcd_sorted_01 + regionList_nlcd_sorted_21\n",
    "regionList_nlcd_sorted"
   ]
  },
  {
   "cell_type": "code",
   "execution_count": 50,
   "id": "37c03e25-06f7-451b-b466-477cce420919",
   "metadata": {},
   "outputs": [],
   "source": [
    "#create transition matrix\n",
    "#TabulateArea(in_zone_data, zone_field, in_class_data, class_field, out_table, {processing_cell_size}, {classes_as_rows})"
   ]
  },
  {
   "cell_type": "code",
   "execution_count": 51,
   "id": "1d9c3d2e-585d-4780-a00f-29fd1b3f9bbe",
   "metadata": {
    "tags": []
   },
   "outputs": [
    {
     "name": "stdout",
     "output_type": "stream",
     "text": [
      "region1_dissolve_nlcd_01.tif region1_dissolve_nlcd_21.tif\n",
      "region2_dissolve_nlcd_01.tif region2_dissolve_nlcd_21.tif\n",
      "region3_dissolve_nlcd_01.tif region3_dissolve_nlcd_21.tif\n",
      "region4_dissolve_nlcd_01.tif region4_dissolve_nlcd_21.tif\n",
      "region5_dissolve_nlcd_01.tif region5_dissolve_nlcd_21.tif\n",
      "region6_dissolve_nlcd_01.tif region6_dissolve_nlcd_21.tif\n",
      "region7_dissolve_nlcd_01.tif region7_dissolve_nlcd_21.tif\n",
      "region8_dissolve_nlcd_01.tif region8_dissolve_nlcd_21.tif\n"
     ]
    }
   ],
   "source": [
    "#make sure that the correct regions are paired together when the matrix is created\n",
    "for nlcd01, nlcd21 in zip(regionList_nlcd_sorted_01, regionList_nlcd_sorted_21):\n",
    "    print(nlcd01, nlcd21)"
   ]
  },
  {
   "cell_type": "code",
   "execution_count": 52,
   "id": "8d957bf0-bb81-4a98-8a2c-04e7fb9e33d3",
   "metadata": {
    "tags": []
   },
   "outputs": [
    {
     "name": "stdout",
     "output_type": "stream",
     "text": [
      "creating a transition matrix for region1_dissolve_nlcd_01.tif and region1_dissolve_nlcd_21.tif\n",
      "creating a transition matrix for region2_dissolve_nlcd_01.tif and region2_dissolve_nlcd_21.tif\n",
      "creating a transition matrix for region3_dissolve_nlcd_01.tif and region3_dissolve_nlcd_21.tif\n",
      "creating a transition matrix for region4_dissolve_nlcd_01.tif and region4_dissolve_nlcd_21.tif\n",
      "creating a transition matrix for region5_dissolve_nlcd_01.tif and region5_dissolve_nlcd_21.tif\n",
      "creating a transition matrix for region6_dissolve_nlcd_01.tif and region6_dissolve_nlcd_21.tif\n",
      "creating a transition matrix for region7_dissolve_nlcd_01.tif and region7_dissolve_nlcd_21.tif\n",
      "creating a transition matrix for region8_dissolve_nlcd_01.tif and region8_dissolve_nlcd_21.tif\n"
     ]
    }
   ],
   "source": [
    "for nlcd01, nlcd21 in zip(regionList_nlcd_sorted_01, regionList_nlcd_sorted_21):\n",
    "     print(f'creating a transition matrix for {nlcd01} and {nlcd21}')"
   ]
  },
  {
   "cell_type": "code",
   "execution_count": 53,
   "id": "a44dcf8f-353a-45cb-b407-21422e0c5bf9",
   "metadata": {
    "tags": []
   },
   "outputs": [
    {
     "name": "stdout",
     "output_type": "stream",
     "text": [
      "creating a transition matrix for region1_dissolve_nlcd_01.tif and region1_dissolve_nlcd_21.tif\n",
      "the file name is region1matrix.dbf\n",
      "creating a transition matrix for region2_dissolve_nlcd_01.tif and region2_dissolve_nlcd_21.tif\n",
      "the file name is region2matrix.dbf\n",
      "creating a transition matrix for region3_dissolve_nlcd_01.tif and region3_dissolve_nlcd_21.tif\n",
      "the file name is region3matrix.dbf\n",
      "creating a transition matrix for region4_dissolve_nlcd_01.tif and region4_dissolve_nlcd_21.tif\n",
      "the file name is region4matrix.dbf\n",
      "creating a transition matrix for region5_dissolve_nlcd_01.tif and region5_dissolve_nlcd_21.tif\n",
      "the file name is region5matrix.dbf\n",
      "creating a transition matrix for region6_dissolve_nlcd_01.tif and region6_dissolve_nlcd_21.tif\n",
      "the file name is region6matrix.dbf\n",
      "creating a transition matrix for region7_dissolve_nlcd_01.tif and region7_dissolve_nlcd_21.tif\n",
      "the file name is region7matrix.dbf\n",
      "creating a transition matrix for region8_dissolve_nlcd_01.tif and region8_dissolve_nlcd_21.tif\n",
      "the file name is region8matrix.dbf\n"
     ]
    }
   ],
   "source": [
    "#create a loop that makes a transition table for each region \n",
    "for nlcd01, nlcd21 in zip(regionList_nlcd_sorted_01, regionList_nlcd_sorted_21):\n",
    "    \n",
    "    arcpy.env.extent = nlcd01\n",
    "    arcpy.env.mask = nlcd01\n",
    "    print(f'creating a transition matrix for {nlcd01} and {nlcd21}')\n",
    "    \n",
    "    inZoneData = nlcd01\n",
    "    zoneField = \"VALUE\"\n",
    "    \n",
    "    inClassData = nlcd21\n",
    "    classField = \"VALUE\"\n",
    "    \n",
    "    nlcd_name = nlcd01[:7]\n",
    "    transition_matrix = nlcd_name + 'matrix' + \".dbf\"\n",
    "    \n",
    "    processingCellSize = 30\n",
    "    \n",
    "    outTable = transition_matrix\n",
    "    \n",
    "    print(f'the file name is {outTable}')\n",
    "    \n",
    "    TabulateArea(inZoneData, zoneField, inClassData, classField, outTable, processingCellSize)\n",
    "    \n",
    "    #reset the extent and mask to their defaults after the table is created, prevents errors with the mask\n",
    "    arcpy.env.extent = None\n",
    "    arcpy.env.mask = None"
   ]
  },
  {
   "cell_type": "code",
   "execution_count": 54,
   "id": "1c30444f-b0fe-4748-b11d-8888673e7e40",
   "metadata": {},
   "outputs": [],
   "source": [
    "#use table to excel to have my transition matrix in excel"
   ]
  },
  {
   "cell_type": "code",
   "execution_count": 55,
   "id": "2e2549eb-a1d5-4b59-84e4-f11f965af65d",
   "metadata": {},
   "outputs": [],
   "source": [
    "#create a dbf list"
   ]
  },
  {
   "cell_type": "code",
   "execution_count": 56,
   "id": "08f4149f-7b9d-4c0f-80b0-1267321d829b",
   "metadata": {},
   "outputs": [
    {
     "data": {
      "text/plain": [
       "['region1matrix.dbf',\n",
       " 'region2matrix.dbf',\n",
       " 'regionmatrix.dbf',\n",
       " 'region3matrix.dbf',\n",
       " 'region4matrix.dbf',\n",
       " 'region5matrix.dbf',\n",
       " 'region6matrix.dbf',\n",
       " 'region7matrix.dbf',\n",
       " 'region8matrix.dbf']"
      ]
     },
     "execution_count": 56,
     "metadata": {},
     "output_type": "execute_result"
    }
   ],
   "source": [
    "dbfList = [f for f in os.listdir(r'D:\\Geoprocessing\\gcwFinal') if f.endswith(\"matrix.dbf\")]\n",
    "dbfList"
   ]
  },
  {
   "cell_type": "code",
   "execution_count": 57,
   "id": "b5b0994d-1087-478c-8d6c-78ebd8b914f4",
   "metadata": {},
   "outputs": [
    {
     "name": "stdout",
     "output_type": "stream",
     "text": [
      "the matrix excel file is named region1matrix.xls\n",
      "the matrix excel file is named region2matrix.xls\n",
      "the matrix excel file is named regionmatrix.xls\n",
      "the matrix excel file is named region3matrix.xls\n",
      "the matrix excel file is named region4matrix.xls\n",
      "the matrix excel file is named region5matrix.xls\n",
      "the matrix excel file is named region6matrix.xls\n",
      "the matrix excel file is named region7matrix.xls\n",
      "the matrix excel file is named region8matrix.xls\n"
     ]
    }
   ],
   "source": [
    "#convert dbf matrix files to excel\n",
    "for matrix in dbfList:\n",
    "    Input_Table = matrix\n",
    "    \n",
    "    Output_Excel_File = matrix[:-3] + 'xls'\n",
    "    \n",
    "    arcpy.conversion.TableToExcel(Input_Table, Output_Excel_File)\n",
    "    \n",
    "    print(f'the matrix excel file is named {Output_Excel_File}')"
   ]
  },
  {
   "cell_type": "code",
   "execution_count": 58,
   "id": "0d571413-c833-4101-a6c6-c64b7f4bd49d",
   "metadata": {},
   "outputs": [],
   "source": [
    "#now i want to do the same process but with reclassified rasters, so that it is easier\n",
    "#to compare between all the forests and all the developed"
   ]
  },
  {
   "cell_type": "code",
   "execution_count": 59,
   "id": "c1f45c72-e437-4ebb-b4f6-471d5b1d18a3",
   "metadata": {},
   "outputs": [
    {
     "name": "stdout",
     "output_type": "stream",
     "text": [
      "Reclassified region1_dissolve_nlcd_01.tif and saved it as D:\\Geoprocessing\\gcwFinal\\region1_reclass_01.tif\n",
      "Reclassified region2_dissolve_nlcd_01.tif and saved it as D:\\Geoprocessing\\gcwFinal\\region2_reclass_01.tif\n",
      "Reclassified region3_dissolve_nlcd_01.tif and saved it as D:\\Geoprocessing\\gcwFinal\\region3_reclass_01.tif\n",
      "Reclassified region4_dissolve_nlcd_01.tif and saved it as D:\\Geoprocessing\\gcwFinal\\region4_reclass_01.tif\n",
      "Reclassified region5_dissolve_nlcd_01.tif and saved it as D:\\Geoprocessing\\gcwFinal\\region5_reclass_01.tif\n",
      "Reclassified region6_dissolve_nlcd_01.tif and saved it as D:\\Geoprocessing\\gcwFinal\\region6_reclass_01.tif\n",
      "Reclassified region7_dissolve_nlcd_01.tif and saved it as D:\\Geoprocessing\\gcwFinal\\region7_reclass_01.tif\n",
      "Reclassified region8_dissolve_nlcd_01.tif and saved it as D:\\Geoprocessing\\gcwFinal\\region8_reclass_01.tif\n"
     ]
    }
   ],
   "source": [
    "#reclassify nlcd01\n",
    "for nlcd in (regionList_nlcd_sorted_01):\n",
    "    outReclass1 = Reclassify(nlcd, \"Value\", \n",
    "                         RemapValue([[11,10],[12,10],[21,20],[22,20],[23,20],[24,20],[31,30],[41,40],[42,40],[43,40],[51,50],\n",
    "                                     [52,50],[71,70],[72,70],[73,70],[74,70],[81,80],[82,80],[90,90],[95,90]]))\n",
    "    \n",
    "    nlcd_name = nlcd[:7]\n",
    "    reclass = rf'D:\\Geoprocessing\\gcwFinal\\{nlcd_name}_reclass_01.tif'\n",
    "\n",
    "    outReclass1.save(reclass)\n",
    "    \n",
    "    print(f'Reclassified {nlcd} and saved it as {reclass}')"
   ]
  },
  {
   "cell_type": "code",
   "execution_count": 60,
   "id": "d078b3dc-770a-47aa-9bd4-93cb8d0e7d7d",
   "metadata": {},
   "outputs": [
    {
     "name": "stdout",
     "output_type": "stream",
     "text": [
      "Reclassified region1_dissolve_nlcd_21.tif and saved it as D:\\Geoprocessing\\gcwFinal\\region1_reclass_21.tif\n",
      "Reclassified region2_dissolve_nlcd_21.tif and saved it as D:\\Geoprocessing\\gcwFinal\\region2_reclass_21.tif\n",
      "Reclassified region3_dissolve_nlcd_21.tif and saved it as D:\\Geoprocessing\\gcwFinal\\region3_reclass_21.tif\n",
      "Reclassified region4_dissolve_nlcd_21.tif and saved it as D:\\Geoprocessing\\gcwFinal\\region4_reclass_21.tif\n",
      "Reclassified region5_dissolve_nlcd_21.tif and saved it as D:\\Geoprocessing\\gcwFinal\\region5_reclass_21.tif\n",
      "Reclassified region6_dissolve_nlcd_21.tif and saved it as D:\\Geoprocessing\\gcwFinal\\region6_reclass_21.tif\n",
      "Reclassified region7_dissolve_nlcd_21.tif and saved it as D:\\Geoprocessing\\gcwFinal\\region7_reclass_21.tif\n",
      "Reclassified region8_dissolve_nlcd_21.tif and saved it as D:\\Geoprocessing\\gcwFinal\\region8_reclass_21.tif\n"
     ]
    }
   ],
   "source": [
    "#reclassify nlcd21\n",
    "for nlcd in (regionList_nlcd_sorted_21):\n",
    "    outReclass1 = Reclassify(nlcd, \"Value\", \n",
    "                         RemapValue([[11,10],[12,10],[21,20],[22,20],[23,20],[24,20],[31,30],[41,40],[42,40],[43,40],[51,50],\n",
    "                                     [52,50],[71,70],[72,70],[73,70],[74,70],[81,80],[82,80],[90,90],[95,90]]))\n",
    "    \n",
    "    nlcd_name = nlcd[:7]\n",
    "    reclass = rf'D:\\Geoprocessing\\gcwFinal\\{nlcd_name}_reclass_21.tif'\n",
    "\n",
    "    outReclass1.save(reclass)\n",
    "    \n",
    "    print(f'Reclassified {nlcd} and saved it as {reclass}')"
   ]
  },
  {
   "cell_type": "code",
   "execution_count": 61,
   "id": "4718c691-88a1-416c-a904-7fc8cb859c69",
   "metadata": {},
   "outputs": [
    {
     "data": {
      "text/plain": [
       "['region1_reclass_01.tif',\n",
       " 'region2_reclass_01.tif',\n",
       " 'region3_reclass_01.tif',\n",
       " 'region4_reclass_01.tif',\n",
       " 'region5_reclass_01.tif',\n",
       " 'region6_reclass_01.tif',\n",
       " 'region7_reclass_01.tif',\n",
       " 'region8_reclass_01.tif']"
      ]
     },
     "execution_count": 61,
     "metadata": {},
     "output_type": "execute_result"
    }
   ],
   "source": [
    "#make a reclassified list for 01\n",
    "reclassList_01 = [f for f in os.listdir(r'D:\\Geoprocessing\\gcwFinal') if f.endswith(\"reclass_01.tif\")]\n",
    "reclassList_01 "
   ]
  },
  {
   "cell_type": "code",
   "execution_count": 62,
   "id": "6f6c5550-80f5-4bf2-8fea-d9830cbe5a6f",
   "metadata": {},
   "outputs": [
    {
     "data": {
      "text/plain": [
       "['region1_reclass_21.tif',\n",
       " 'region2_reclass_21.tif',\n",
       " 'region3_reclass_21.tif',\n",
       " 'region4_reclass_21.tif',\n",
       " 'region5_reclass_21.tif',\n",
       " 'region6_reclass_21.tif',\n",
       " 'region7_reclass_21.tif',\n",
       " 'region8_reclass_21.tif']"
      ]
     },
     "execution_count": 62,
     "metadata": {},
     "output_type": "execute_result"
    }
   ],
   "source": [
    "#make a reclassified list for 21\n",
    "reclassList_21 = [f for f in os.listdir(r'D:\\Geoprocessing\\gcwFinal') if f.endswith(\"reclass_21.tif\")]\n",
    "reclassList_21 "
   ]
  },
  {
   "cell_type": "code",
   "execution_count": 63,
   "id": "32f28b0a-dc53-4976-8607-abd9877979cd",
   "metadata": {},
   "outputs": [
    {
     "name": "stdout",
     "output_type": "stream",
     "text": [
      "region1_reclass_01.tif region1_reclass_21.tif\n",
      "region2_reclass_01.tif region2_reclass_21.tif\n",
      "region3_reclass_01.tif region3_reclass_21.tif\n",
      "region4_reclass_01.tif region4_reclass_21.tif\n",
      "region5_reclass_01.tif region5_reclass_21.tif\n",
      "region6_reclass_01.tif region6_reclass_21.tif\n",
      "region7_reclass_01.tif region7_reclass_21.tif\n",
      "region8_reclass_01.tif region8_reclass_21.tif\n"
     ]
    }
   ],
   "source": [
    "#first make sure the correct regions are paired together before creating the transition matrix\n",
    "for reclass01, reclass21 in zip(reclassList_01, reclassList_21):\n",
    "    print(reclass01, reclass21)"
   ]
  },
  {
   "cell_type": "code",
   "execution_count": 64,
   "id": "47414f8b-1a0f-4838-9c9d-0b07460efbe6",
   "metadata": {},
   "outputs": [
    {
     "name": "stdout",
     "output_type": "stream",
     "text": [
      "creating a transition matrix for region1_reclass_01.tif and region1_reclass_21.tif\n",
      "the file name is region1reclass.dbf\n",
      "creating a transition matrix for region2_reclass_01.tif and region2_reclass_21.tif\n",
      "the file name is region2reclass.dbf\n",
      "creating a transition matrix for region3_reclass_01.tif and region3_reclass_21.tif\n",
      "the file name is region3reclass.dbf\n",
      "creating a transition matrix for region4_reclass_01.tif and region4_reclass_21.tif\n",
      "the file name is region4reclass.dbf\n",
      "creating a transition matrix for region5_reclass_01.tif and region5_reclass_21.tif\n",
      "the file name is region5reclass.dbf\n",
      "creating a transition matrix for region6_reclass_01.tif and region6_reclass_21.tif\n",
      "the file name is region6reclass.dbf\n",
      "creating a transition matrix for region7_reclass_01.tif and region7_reclass_21.tif\n",
      "the file name is region7reclass.dbf\n",
      "creating a transition matrix for region8_reclass_01.tif and region8_reclass_21.tif\n",
      "the file name is region8reclass.dbf\n"
     ]
    }
   ],
   "source": [
    "#create a loop that makes a transition matrix for each region using the reclassified nlcd values\n",
    "for reclass01, reclass21 in zip(reclassList_01, reclassList_21):\n",
    "    \n",
    "    arcpy.env.extent = reclass01\n",
    "    arcpy.env.mask = reclass01\n",
    "    print(f'creating a transition matrix for {reclass01} and {reclass21}')\n",
    "    \n",
    "    inZoneData = reclass01\n",
    "    zoneField = \"VALUE\"\n",
    "    \n",
    "    inClassData = reclass21\n",
    "    classField = \"VALUE\"\n",
    "    \n",
    "    name = reclass01[:7]\n",
    "    reclass_matrix = name + 'reclass' + \".dbf\"\n",
    "    \n",
    "    processingCellSize = 30\n",
    "    \n",
    "    outTable = reclass_matrix\n",
    "    \n",
    "    print(f'the file name is {outTable}')\n",
    "    \n",
    "    TabulateArea(inZoneData, zoneField, inClassData, classField, outTable, processingCellSize)\n",
    "\n",
    "    arcpy.env.extent = None\n",
    "    arcpy.env.mask = None"
   ]
  },
  {
   "cell_type": "code",
   "execution_count": 65,
   "id": "37d4578e-347e-451b-9df5-3f2ff0a74c41",
   "metadata": {},
   "outputs": [
    {
     "data": {
      "text/plain": [
       "['region7reclass.dbf',\n",
       " 'region8reclass.dbf',\n",
       " 'region1reclass.dbf',\n",
       " 'region2reclass.dbf',\n",
       " 'region3reclass.dbf',\n",
       " 'region4reclass.dbf',\n",
       " 'region5reclass.dbf',\n",
       " 'region6reclass.dbf']"
      ]
     },
     "execution_count": 65,
     "metadata": {},
     "output_type": "execute_result"
    }
   ],
   "source": [
    "#create a reclassified dbf list\n",
    "reclassDbfList = [f for f in os.listdir(r'D:\\Geoprocessing\\gcwFinal') if f.endswith(\"reclass.dbf\")]\n",
    "reclassDbfList"
   ]
  },
  {
   "cell_type": "code",
   "execution_count": 66,
   "id": "f2657907-b8d5-459e-8075-b0270309906a",
   "metadata": {},
   "outputs": [
    {
     "data": {
      "text/plain": [
       "['region1reclass.dbf',\n",
       " 'region2reclass.dbf',\n",
       " 'region3reclass.dbf',\n",
       " 'region4reclass.dbf',\n",
       " 'region5reclass.dbf',\n",
       " 'region6reclass.dbf',\n",
       " 'region7reclass.dbf',\n",
       " 'region8reclass.dbf']"
      ]
     },
     "execution_count": 66,
     "metadata": {},
     "output_type": "execute_result"
    }
   ],
   "source": [
    "#sort the reclassified dbf list\n",
    "reclassList_sorted = sorted(reclassDbfList, key=lambda f: int(f[6:f.find('reclass')]))\n",
    "reclassList_sorted"
   ]
  },
  {
   "cell_type": "code",
   "execution_count": 67,
   "id": "94eb0ecb-40f4-477e-8ff4-40563b3110d2",
   "metadata": {},
   "outputs": [
    {
     "name": "stdout",
     "output_type": "stream",
     "text": [
      "the reclass matrix excel file is named region1reclass.xls\n",
      "the reclass matrix excel file is named region2reclass.xls\n",
      "the reclass matrix excel file is named region3reclass.xls\n",
      "the reclass matrix excel file is named region4reclass.xls\n",
      "the reclass matrix excel file is named region5reclass.xls\n",
      "the reclass matrix excel file is named region6reclass.xls\n",
      "the reclass matrix excel file is named region7reclass.xls\n",
      "the reclass matrix excel file is named region8reclass.xls\n"
     ]
    }
   ],
   "source": [
    "#convert the reclassified dbf matrix to an excel file\n",
    "for matrix in reclassList_sorted:\n",
    "    Input_Table = matrix\n",
    "    \n",
    "    Output_Excel_File = matrix[:-3] + 'xls'\n",
    "    \n",
    "    arcpy.conversion.TableToExcel(Input_Table, Output_Excel_File)\n",
    "    \n",
    "    print(f'the reclass matrix excel file is named {Output_Excel_File}')"
   ]
  },
  {
   "cell_type": "code",
   "execution_count": 70,
   "id": "5f14f111-3403-4447-ae47-f83620ecffd6",
   "metadata": {},
   "outputs": [
    {
     "name": "stdout",
     "output_type": "stream",
     "text": [
      "Merged regions saved to: D:\\Geoprocessing\\gcwFinal\\merged_regions.shp\n"
     ]
    }
   ],
   "source": [
    "#create a merged region shapefile, the attribute table has a polygon row for each region\n",
    "input_features = [\"D:\\\\Geoprocessing\\\\gcwFinal\\\\region1_dissolve.shp\",\n",
    "    \"D:\\\\Geoprocessing\\\\gcwFinal\\\\region2_dissolve.shp\",\n",
    "    \"D:\\\\Geoprocessing\\\\gcwFinal\\\\region3_dissolve.shp\",\n",
    "    \"D:\\\\Geoprocessing\\\\gcwFinal\\\\region4_dissolve.shp\",\n",
    "    \"D:\\\\Geoprocessing\\\\gcwFinal\\\\region5_dissolve.shp\",\n",
    "    \"D:\\\\Geoprocessing\\\\gcwFinal\\\\region6_dissolve.shp\",\n",
    "    \"D:\\\\Geoprocessing\\\\gcwFinal\\\\region7_dissolve.shp\",\n",
    "    \"D:\\\\Geoprocessing\\\\gcwFinal\\\\region8_dissolve.shp\"]\n",
    "\n",
    "output_merged = r\"D:\\Geoprocessing\\gcwFinal\\merged_regions.shp\"\n",
    "arcpy.management.Merge(input_features, output_merged)\n",
    "print(f\"Merged regions saved to: {output_merged}\")"
   ]
  },
  {
   "cell_type": "code",
   "execution_count": 109,
   "id": "e3297bad-6233-4332-b6bd-de3d8537c245",
   "metadata": {},
   "outputs": [],
   "source": [
    "#AddField in the merged regions shapefile which will hold a unique identifier for each region\n",
    "field_name = 'RegionID'\n",
    "if field_name not in [f.name for f in arcpy.ListFields(output_merged)]:\n",
    "    arcpy.AddField_management(output_merged, field_name, 'DOUBLE')\n",
    "#use if/elif in order to assign a RegionID to each individual region\n",
    "with arcpy.da.UpdateCursor(output_merged, [\"FID\", field_name]) as cursor:\n",
    "    for row in cursor:\n",
    "        if row[0] == 0:\n",
    "            row[1] = 1\n",
    "        elif row[0] == 1:\n",
    "            row[1] = 2\n",
    "        elif row[0] == 2:\n",
    "            row[1] = 3\n",
    "        elif row[0] == 3:\n",
    "            row[1] = 4\n",
    "        elif row[0] == 4:\n",
    "            row[1] = 5\n",
    "        elif row[0] == 5:\n",
    "            row[1] = 6\n",
    "        elif row[0] == 6:\n",
    "            row[1] = 7\n",
    "        elif row[0] == 7:\n",
    "            row[1] = 8\n",
    "        cursor.updateRow(row)"
   ]
  },
  {
   "cell_type": "code",
   "execution_count": 110,
   "id": "2bafd090-9cb3-4072-88ed-2a70a1ca6cd3",
   "metadata": {},
   "outputs": [],
   "source": [
    "#AddField in the merged regions shapefule which will hold the value in m^2 that has transitoned from forest to developed\n",
    "f2d_field = 'F2Dev'\n",
    "if f2d_field not in [f.name for f in arcpy.ListFields(output_merged)]:\n",
    "    arcpy.AddField_management(output_merged, f2d_field, 'DOUBLE')\n",
    "#use the values from the transition matrices to update the values for each region\n",
    "with arcpy.da.UpdateCursor(output_merged, ['RegionID', f2d_field]) as cursor:\n",
    "    for row in cursor:\n",
    "        if row[0] == 1:\n",
    "            row[1] = 2067300\n",
    "        elif row[0] == 2:\n",
    "            row[1] = 9648900\n",
    "        elif row[0] == 3:\n",
    "            row[1] = 17019000\n",
    "        elif row[0] == 4:\n",
    "            row[1] = 1713600\n",
    "        elif row[0] == 5:\n",
    "            row[1] = 120809700\n",
    "        elif row[0] == 6:\n",
    "            row[1] = 128394900\n",
    "        elif row[0] == 7:\n",
    "            row[1] = 1143900\n",
    "        elif row[0] == 8:\n",
    "            row[1] = 3205800\n",
    "        cursor.updateRow(row)"
   ]
  },
  {
   "cell_type": "code",
   "execution_count": 99,
   "id": "f9438721-b67f-4482-a64e-9ad5f0a0a303",
   "metadata": {},
   "outputs": [],
   "source": [
    "#find the values for the percent amount of forest that was developed in each region\n",
    "#forest converted to developed land/ total forest in 2001"
   ]
  },
  {
   "cell_type": "code",
   "execution_count": 114,
   "id": "2d9d45b6-93cf-466a-b210-acaeb9145aab",
   "metadata": {},
   "outputs": [
    {
     "name": "stdout",
     "output_type": "stream",
     "text": [
      "0.0011535635672785692\n",
      "0.12%\n"
     ]
    }
   ],
   "source": [
    "r1ftd = 2067300/1792098900\n",
    "print(f'{r1ftd}')\n",
    "r1ftdpcnt = r1ftd*100\n",
    "print(f'{r1ftdpcnt:.2f}%')"
   ]
  },
  {
   "cell_type": "code",
   "execution_count": 96,
   "id": "64e3cfb0-b5c7-4953-987f-29656f86117b",
   "metadata": {},
   "outputs": [
    {
     "name": "stdout",
     "output_type": "stream",
     "text": [
      "0.004553207248437529\n",
      "0.46%\n"
     ]
    }
   ],
   "source": [
    "r2ftd = 9648900/2119143600\n",
    "print(f'{r2ftd}')\n",
    "r2ftdpcnt = r2ftd*100\n",
    "print(f'{r2ftdpcnt:.2f}%')"
   ]
  },
  {
   "cell_type": "code",
   "execution_count": 100,
   "id": "b878dd2b-5223-429d-896f-b241d444808d",
   "metadata": {},
   "outputs": [
    {
     "name": "stdout",
     "output_type": "stream",
     "text": [
      "0.008679352321118595\n",
      "0.87%\n"
     ]
    }
   ],
   "source": [
    "r3ftd = 17019000/1960860600\n",
    "print(f'{r3ftd}')\n",
    "r3ftdpcnt = r3ftd*100\n",
    "print(f'{r3ftdpcnt:.2f}%')"
   ]
  },
  {
   "cell_type": "code",
   "execution_count": 101,
   "id": "34980e2d-e544-4afe-9bb3-61364d9dc491",
   "metadata": {},
   "outputs": [
    {
     "name": "stdout",
     "output_type": "stream",
     "text": [
      "0.0007713961135248751\n",
      "0.08%\n"
     ]
    }
   ],
   "source": [
    "r4ftd = 1713600 /2221426800\n",
    "print(f'{r4ftd}')\n",
    "r4ftdpcnt = r4ftd*100\n",
    "print(f'{r4ftdpcnt:.2f}%')"
   ]
  },
  {
   "cell_type": "code",
   "execution_count": 102,
   "id": "3482e3f9-d704-47c1-bdfa-d79e8ac5cd61",
   "metadata": {},
   "outputs": [
    {
     "name": "stdout",
     "output_type": "stream",
     "text": [
      "0.03971879379237208\n",
      "3.97%\n"
     ]
    }
   ],
   "source": [
    "r5ftd = 120809700/3041625600\n",
    "print(f'{r5ftd}')\n",
    "r5ftdpcnt = r5ftd*100\n",
    "print(f'{r5ftdpcnt:.2f}%')"
   ]
  },
  {
   "cell_type": "code",
   "execution_count": 103,
   "id": "2eb33eb9-1647-43f0-9835-0313a16f833d",
   "metadata": {},
   "outputs": [
    {
     "name": "stdout",
     "output_type": "stream",
     "text": [
      "0.0674202916358498\n",
      "6.74%\n"
     ]
    }
   ],
   "source": [
    "r6ftd = 128394900 /1904395500\n",
    "print(f'{r6ftd}')\n",
    "r6ftdpcnt = r6ftd*100\n",
    "print(f'{r6ftdpcnt:.2f}%')"
   ]
  },
  {
   "cell_type": "code",
   "execution_count": 104,
   "id": "307d08c9-edc4-4dcc-afb2-1add32237bf0",
   "metadata": {},
   "outputs": [
    {
     "name": "stdout",
     "output_type": "stream",
     "text": [
      "0.0007526178785531736\n",
      "0.08%\n"
     ]
    }
   ],
   "source": [
    "r7ftd = 1143900 /1519894800\n",
    "print(f'{r7ftd}')\n",
    "r7ftdpcnt = r7ftd*100\n",
    "print(f'{r7ftdpcnt:.2f}%')"
   ]
  },
  {
   "cell_type": "code",
   "execution_count": 105,
   "id": "abe238e4-b201-48b4-b897-a0f715344d36",
   "metadata": {},
   "outputs": [
    {
     "name": "stdout",
     "output_type": "stream",
     "text": [
      "0.001024057296609485\n",
      "0.10%\n"
     ]
    }
   ],
   "source": [
    "r8ftd = 3205800 /3130488900\n",
    "print(f'{r8ftd}')\n",
    "r8ftdpcnt = r8ftd*100\n",
    "print(f'{r8ftdpcnt:.2f}%')"
   ]
  },
  {
   "cell_type": "code",
   "execution_count": 111,
   "id": "6382e360-16ec-417c-85b9-6d2493e7aa6b",
   "metadata": {},
   "outputs": [],
   "source": [
    "#AddField in the merged regions shapefile that will hold the percent of forest 2001 that was developed by 2021\n",
    "f2dpcnt_field = 'F2D_pcnt'\n",
    "if f2dpcnt_field not in [f.name for f in arcpy.ListFields(output_merged)]:\n",
    "    arcpy.AddField_management(output_merged, f2dpcnt_field, 'DOUBLE')\n",
    "#use the values calculated above to update the field\n",
    "with arcpy.da.UpdateCursor(output_merged, ['RegionID', f2dpcnt_field]) as cursor:\n",
    "    for row in cursor:\n",
    "        if row[0] == 1:\n",
    "            row[1] = r1ftdpcnt\n",
    "        elif row[0] == 2:\n",
    "            row[1] = r2ftdpcnt\n",
    "        elif row[0] == 3:\n",
    "            row[1] = r3ftdpcnt\n",
    "        elif row[0] == 4:\n",
    "            row[1] = r4ftdpcnt\n",
    "        elif row[0] == 5:\n",
    "            row[1] = r5ftdpcnt\n",
    "        elif row[0] == 6:\n",
    "            row[1] = r6ftdpcnt\n",
    "        elif row[0] == 7:\n",
    "            row[1] = r7ftdpcnt\n",
    "        elif row[0] == 8:\n",
    "            row[1] = r8ftdpcnt\n",
    "        cursor.updateRow(row)"
   ]
  },
  {
   "cell_type": "code",
   "execution_count": 117,
   "id": "95f29166-effe-480e-83ac-ffe7186a081c",
   "metadata": {},
   "outputs": [],
   "source": [
    "#AddField to the merged regions shapefile that holds the amount of forest to developed in km^2 \n",
    "f2dkm_field = 'F2Dev_km'\n",
    "if f2dkm_field not in [f.name for f in arcpy.ListFields(output_merged)]:\n",
    "    arcpy.AddField_management(output_merged, f2dkm_field, 'DOUBLE')\n",
    "#divide by 1,000,000 to convert msq to kmsq\n",
    "m2_to_km2 = 1_000_000  \n",
    "#divide each value from the transition matrix by the conversion value\n",
    "with arcpy.da.UpdateCursor(output_merged, ['RegionID', f2dkm_field]) as cursor:\n",
    "    for row in cursor:\n",
    "        if row[0] == 1:\n",
    "            row[1] = 2067300 / m2_to_km2\n",
    "        elif row[0] == 2:\n",
    "            row[1] = 9648900 / m2_to_km2\n",
    "        elif row[0] == 3:\n",
    "            row[1] = 17019000 / m2_to_km2\n",
    "        elif row[0] == 4:\n",
    "            row[1] = 1713600 / m2_to_km2\n",
    "        elif row[0] == 5:\n",
    "            row[1] = 120809700 / m2_to_km2\n",
    "        elif row[0] == 6:\n",
    "            row[1] = 128394900 / m2_to_km2\n",
    "        elif row[0] == 7:\n",
    "            row[1] = 1143900 / m2_to_km2\n",
    "        elif row[0] == 8:\n",
    "            row[1] = 3205800 / m2_to_km2\n",
    "        \n",
    "        cursor.updateRow(row)"
   ]
  },
  {
   "cell_type": "code",
   "execution_count": null,
   "id": "a35b0adc-129c-44ed-9854-fef8c747e411",
   "metadata": {},
   "outputs": [],
   "source": []
  }
 ],
 "metadata": {
  "kernelspec": {
   "display_name": "Python 3 (ipykernel)",
   "language": "python",
   "name": "python3"
  },
  "language_info": {
   "codemirror_mode": {
    "name": "ipython",
    "version": 3
   },
   "file_extension": ".py",
   "mimetype": "text/x-python",
   "name": "python",
   "nbconvert_exporter": "python",
   "pygments_lexer": "ipython3",
   "version": "3.11.10"
  }
 },
 "nbformat": 4,
 "nbformat_minor": 5
}
